{
 "cells": [
  {
   "cell_type": "markdown",
   "metadata": {},
   "source": [
    "# Commander Appraisal Results Generation\n",
    "\n",
    "## Usage Guide\n",
    "\n",
    "Put the excel file in the same folder as this jupyter notebook, and run all cells. This notebook mostly serves as proof of concept. Run the\n",
    "python script instead for more efficient processing of results.\n",
    "\n",
    "## Copyright\n",
    "\n",
    "Made by Tew En Hao, 57/23 ASCC. BMTC SCH V Coyote Company Platoon 3 Assistant Trainer."
   ]
  },
  {
   "cell_type": "markdown",
   "metadata": {},
   "source": [
    "1. Import the relevant libraries"
   ]
  },
  {
   "cell_type": "code",
   "execution_count": 1,
   "metadata": {},
   "outputs": [],
   "source": [
    "import pandas as pd"
   ]
  },
  {
   "cell_type": "markdown",
   "metadata": {},
   "source": [
    "2. Define constants (eg. the filename)"
   ]
  },
  {
   "cell_type": "code",
   "execution_count": 2,
   "metadata": {},
   "outputs": [],
   "source": [
    "BATCH = '4324'\n",
    "WEIGHTAGE = 30    # as of 221223, commander appraisal weightage is 30%\n",
    "\n",
    "INPUT_FILE = BATCH + \" PLTN 1 COMD APPRAISAL.xlsx\"\n",
    "OUTPUT_FILE = BATCH + \"_COMD_RESULTS.xlsx\"\n",
    "OUTPUT_SHEET = '_'.join(INPUT_FILE.split('_')[:2]) + \"_RESULTS\""
   ]
  },
  {
   "cell_type": "markdown",
   "metadata": {},
   "source": [
    "3. Read data from excel file and clean data"
   ]
  },
  {
   "cell_type": "code",
   "execution_count": 3,
   "metadata": {},
   "outputs": [],
   "source": [
    "df = pd.read_excel(INPUT_FILE)\n",
    "df.drop(labels=['Timestamp', 'Which Platoon and Section are you from?'], axis=1, inplace=True)"
   ]
  },
  {
   "cell_type": "markdown",
   "metadata": {},
   "source": [
    "4. group data by 4D, then sum and rebase results to required base"
   ]
  },
  {
   "cell_type": "code",
   "execution_count": 4,
   "metadata": {},
   "outputs": [],
   "source": [
    "new_df = df.groupby(by=df.columns.str.split().str[0], axis=1, as_index=True).sum() / 12 * WEIGHTAGE\n",
    "new_df_transposed = new_df.transpose().sum(axis=1)\n",
    "# print(new_df_transposed)"
   ]
  },
  {
   "cell_type": "markdown",
   "metadata": {},
   "source": [
    "5. write new data into excel sheet to be exported :D"
   ]
  },
  {
   "cell_type": "code",
   "execution_count": 5,
   "metadata": {},
   "outputs": [
    {
     "name": "stderr",
     "output_type": "stream",
     "text": [
      "c:\\Users\\enhao\\OneDrive\\Documents\\coding projects\\ns_appraisals_cleaner\\venv\\lib\\site-packages\\openpyxl\\workbook\\child.py:99: UserWarning: Title is more than 31 characters. Some applications may not be able to read the file\n",
      "  warnings.warn(\"Title is more than 31 characters. Some applications may not be able to read the file\")\n"
     ]
    }
   ],
   "source": [
    "new_df_transposed.to_excel(OUTPUT_FILE, sheet_name=OUTPUT_SHEET,header=False)"
   ]
  }
 ],
 "metadata": {
  "kernelspec": {
   "display_name": "venv",
   "language": "python",
   "name": "python3"
  },
  "language_info": {
   "codemirror_mode": {
    "name": "ipython",
    "version": 3
   },
   "file_extension": ".py",
   "mimetype": "text/x-python",
   "name": "python",
   "nbconvert_exporter": "python",
   "pygments_lexer": "ipython3",
   "version": "3.8.10"
  }
 },
 "nbformat": 4,
 "nbformat_minor": 2
}
