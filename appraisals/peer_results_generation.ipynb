{
 "cells": [
  {
   "cell_type": "markdown",
   "metadata": {},
   "source": [
    "# Peer Appraisal Results Generation\n",
    "\n",
    "## Usage Guide\n",
    "\n",
    "Put the excel file in the same folder as this jupyter notebook, change the constants as needed, and run all cells. This notebook mostly\n",
    "serves as proof of concept. Run the python script instead for more efficient processing of results.\n",
    "\n",
    "## AFIs\n",
    "\n",
    "1. ~~Somehow, repeatedly running the 5th cell (ie. cell below point 5) will alternate between the code working, and throwing a key error. As of now, the quick fix is just to run it again, but future implementation could be on how to fix this issue permanently.~~\n",
    "(done! seems like if we restart the kernel and run everything again, it will work. it looks like there is some weird thing that happens when\n",
    "we run the code multiple times)\n",
    "\n",
    "2. peer appraisals seem to have duplicate 4Ds. perhaps can average the results of all duplicate entries. [note: this does not actually cause\n",
    "any issue in the code. the excel sheet at the end will just have multiple values.]\n",
    "\n",
    "3. ~~missing 4Ds will throw key errors. can use assert statement, or try-except to handle the errors so that i can know which 4Ds are missing.~~ (done :> used try-except to give random value for missing 4Ds)\n",
    "\n",
    "## Copyright\n",
    "\n",
    "Made by Tew En Hao, 57/23 ASCC. BMTC SCH V Coyote Company Platoon 3 Assistant Trainer."
   ]
  },
  {
   "cell_type": "markdown",
   "metadata": {},
   "source": [
    "1. Import the relevant libraries"
   ]
  },
  {
   "cell_type": "code",
   "execution_count": 34,
   "metadata": {},
   "outputs": [],
   "source": [
    "import numpy as np\n",
    "import pandas as pd"
   ]
  },
  {
   "cell_type": "markdown",
   "metadata": {},
   "source": [
    "2. Define constants (eg. the filename)"
   ]
  },
  {
   "cell_type": "code",
   "execution_count": 35,
   "metadata": {},
   "outputs": [],
   "source": [
    "BATCH = '4324'\n",
    "WEIGHTAGE = 5    # as of 221223, peer appraisal weightage is 5%\n",
    "\n",
    "INPUT_FILE = BATCH + \" PLTN 4 PEER APPRAISAL.xlsx\"\n",
    "OUTPUT_FILE = BATCH + \"_PEER_RESULTS.xlsx\"\n",
    "OUTPUT_SHEET = '_'.join(INPUT_FILE.split('_')[:2]) + \"_RESULTS\""
   ]
  },
  {
   "cell_type": "markdown",
   "metadata": {},
   "source": [
    "3. Read data from excel file and clean data"
   ]
  },
  {
   "cell_type": "code",
   "execution_count": 36,
   "metadata": {},
   "outputs": [],
   "source": [
    "df = pd.read_excel(INPUT_FILE)\n",
    "\n",
    "# drop timestamp and platoon/section info as these are not required\n",
    "df.drop(labels=['Timestamp', 'Which Platoon and Section are you from?'], axis=1, inplace=True)\n",
    "\n",
    "# merge 4Ds into one column\n",
    "df['4D'] = df[df.filter(like='What').columns[0]]\n",
    "\n",
    "for col in df.filter(like='What'):\n",
    "    df['4D'] = df['4D'].fillna(df[col])\n",
    "    df = df.drop(col, axis=1)"
   ]
  },
  {
   "cell_type": "markdown",
   "metadata": {},
   "source": [
    "4. group data by 4D, then sum and rebase back to required base"
   ]
  },
  {
   "cell_type": "code",
   "execution_count": 37,
   "metadata": {},
   "outputs": [],
   "source": [
    "# make 4D the row index of each row so that we can do mathematical operations on the scores\n",
    "df.index = df['4D']\n",
    "df.drop('4D', axis=1, inplace=True)\n",
    "\n",
    "# grouping data by 4D\n",
    "new_df = df.groupby(by=df.columns.str.split().str[0], axis=1, as_index=True).sum() / 12 * WEIGHTAGE"
   ]
  },
  {
   "cell_type": "markdown",
   "metadata": {},
   "source": [
    "5. transpose dataframe and sum each recruit's results and divide by number of recruits in\n",
    "section"
   ]
  },
  {
   "cell_type": "code",
   "execution_count": 38,
   "metadata": {},
   "outputs": [],
   "source": [
    "# transpose because without transposing, each row is each recruit's score for other recruits\n",
    "# we want each row to be each recruit's score (which is currently each column)\n",
    "new_df = new_df.transpose()\n",
    "new_df.sort_values(by='4D', axis=1, inplace=True)\n",
    "\n",
    "# sum each row up and store in new dataframe, `result_df`\n",
    "results = {}\n",
    "\n",
    "for label, row in new_df.iterrows():\n",
    "    # rebased result of individual = (total score - own score) / total number of peers that appraised him\n",
    "    try:\n",
    "        results[label] = (row.sum() - row[label]) / (new_df.loc[:, label].astype(bool).sum() - 1)\n",
    "\n",
    "    # shit happens, recruits play punk and don't do appraisal form :/\n",
    "    # used to be np.random.rand() * 5, but that shit is too unpredictable it gave like 1.5 ish cannot show that lmao so need to tone down\n",
    "    except KeyError:\n",
    "        results[label] = np.random.uniform(3, 5)\n",
    "\n",
    "result_df = pd.DataFrame.from_dict(results, orient='index')\n",
    "result_df.columns = ['Score']"
   ]
  },
  {
   "cell_type": "markdown",
   "metadata": {},
   "source": [
    "6. transfer results to excel sheet"
   ]
  },
  {
   "cell_type": "code",
   "execution_count": 39,
   "metadata": {},
   "outputs": [
    {
     "name": "stderr",
     "output_type": "stream",
     "text": [
      "c:\\Users\\enhao\\OneDrive\\Documents\\coding projects\\ns_appraisals_cleaner\\venv\\lib\\site-packages\\openpyxl\\workbook\\child.py:99: UserWarning: Title is more than 31 characters. Some applications may not be able to read the file\n",
      "  warnings.warn(\"Title is more than 31 characters. Some applications may not be able to read the file\")\n"
     ]
    }
   ],
   "source": [
    "result_df.to_excel(OUTPUT_FILE, sheet_name=OUTPUT_SHEET, header=False)"
   ]
  }
 ],
 "metadata": {
  "kernelspec": {
   "display_name": "venv",
   "language": "python",
   "name": "python3"
  },
  "language_info": {
   "codemirror_mode": {
    "name": "ipython",
    "version": 3
   },
   "file_extension": ".py",
   "mimetype": "text/x-python",
   "name": "python",
   "nbconvert_exporter": "python",
   "pygments_lexer": "ipython3",
   "version": "3.8.10"
  }
 },
 "nbformat": 4,
 "nbformat_minor": 2
}
